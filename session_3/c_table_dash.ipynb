{
 "cells": [
  {
   "cell_type": "markdown",
   "id": "31986ed2",
   "metadata": {},
   "source": [
    "# Digital Tools and Big Data "
   ]
  },
  {
   "cell_type": "markdown",
   "id": "96b8b93c",
   "metadata": {},
   "source": [
    "We are now integrating external data sources to our dashboard"
   ]
  },
  {
   "cell_type": "markdown",
   "id": "2b94c03f",
   "metadata": {},
   "source": [
    "## Jupiter Dash Application"
   ]
  },
  {
   "cell_type": "markdown",
   "id": "eeb3aa8e",
   "metadata": {},
   "source": [
    "This next cell reads an external file and shows it as a table"
   ]
  },
  {
   "cell_type": "code",
   "execution_count": 1,
   "id": "d99cda2a",
   "metadata": {},
   "outputs": [
    {
     "name": "stdout",
     "output_type": "stream",
     "text": [
      "Dash is running on http://127.0.0.1:8050/\n",
      "\n",
      " * Serving Flask app '__main__' (lazy loading)\n",
      " * Environment: production\n",
      "\u001b[31m   WARNING: This is a development server. Do not use it in a production deployment.\u001b[0m\n",
      "\u001b[2m   Use a production WSGI server instead.\u001b[0m\n",
      " * Debug mode: on\n"
     ]
    },
    {
     "name": "stderr",
     "output_type": "stream",
     "text": [
      "Traceback (most recent call last):\n",
      "  File \"/Users/diego/opt/anaconda3/envs/dash/lib/python3.8/site-packages/ipykernel_launcher.py\", line 17, in <module>\n",
      "    app.launch_new_instance()\n",
      "  File \"/Users/diego/opt/anaconda3/envs/dash/lib/python3.8/site-packages/traitlets/config/application.py\", line 975, in launch_instance\n",
      "    app.initialize(argv)\n",
      "  File \"/Users/diego/opt/anaconda3/envs/dash/lib/python3.8/site-packages/traitlets/config/application.py\", line 110, in inner\n",
      "    return method(app, *args, **kwargs)\n",
      "  File \"/Users/diego/opt/anaconda3/envs/dash/lib/python3.8/site-packages/ipykernel/kernelapp.py\", line 666, in initialize\n",
      "    self.init_sockets()\n",
      "  File \"/Users/diego/opt/anaconda3/envs/dash/lib/python3.8/site-packages/ipykernel/kernelapp.py\", line 307, in init_sockets\n",
      "    self.shell_port = self._bind_socket(self.shell_socket, self.shell_port)\n",
      "  File \"/Users/diego/opt/anaconda3/envs/dash/lib/python3.8/site-packages/ipykernel/kernelapp.py\", line 244, in _bind_socket\n",
      "    return self._try_bind_socket(s, port)\n",
      "  File \"/Users/diego/opt/anaconda3/envs/dash/lib/python3.8/site-packages/ipykernel/kernelapp.py\", line 220, in _try_bind_socket\n",
      "    s.bind(\"tcp://%s:%i\" % (self.ip, port))\n",
      "  File \"/Users/diego/opt/anaconda3/envs/dash/lib/python3.8/site-packages/zmq/sugar/socket.py\", line 226, in bind\n",
      "    super().bind(addr)\n",
      "  File \"zmq/backend/cython/socket.pyx\", line 562, in zmq.backend.cython.socket.Socket.bind\n",
      "  File \"zmq/backend/cython/checkrc.pxd\", line 28, in zmq.backend.cython.checkrc._check_rc\n",
      "zmq.error.ZMQError: Address already in use\n"
     ]
    },
    {
     "ename": "SystemExit",
     "evalue": "1",
     "output_type": "error",
     "traceback": [
      "An exception has occurred, use %tb to see the full traceback.\n",
      "\u001b[0;31mSystemExit\u001b[0m\u001b[0;31m:\u001b[0m 1\n"
     ]
    },
    {
     "name": "stderr",
     "output_type": "stream",
     "text": [
      "/Users/diego/opt/anaconda3/envs/dash/lib/python3.8/site-packages/IPython/core/interactiveshell.py:3406: UserWarning: To exit: use 'exit', 'quit', or Ctrl-D.\n",
      "  warn(\"To exit: use 'exit', 'quit', or Ctrl-D.\", stacklevel=1)\n"
     ]
    }
   ],
   "source": [
    "# Run this app with `python app.py` and\n",
    "# visit http://127.0.0.1:8050/ in your web browser.\n",
    "\n",
    "from dash import Dash, html\n",
    "import pandas as pd\n",
    "\n",
    "df = pd.read_csv('https://gist.githubusercontent.com/chriddyp/c78bf172206ce24f77d6363a2d754b59/raw/c353e8ef842413cae56ae3920b8fd78468aa4cb2/usa-agricultural-exports-2011.csv')\n",
    "\n",
    "\n",
    "def generate_table(dataframe, max_rows=10):\n",
    "    return html.Table([\n",
    "        html.Thead(\n",
    "            html.Tr([html.Th(col) for col in dataframe.columns])\n",
    "        ),\n",
    "        html.Tbody([\n",
    "            html.Tr([\n",
    "                html.Td(dataframe.iloc[i][col]) for col in dataframe.columns\n",
    "            ]) for i in range(min(len(dataframe), max_rows))\n",
    "        ])\n",
    "    ])\n",
    "\n",
    "\n",
    "app = Dash(__name__)\n",
    "\n",
    "app.layout = html.Div([\n",
    "    html.H4(children='US Agriculture Exports (2011)'),\n",
    "    generate_table(df)\n",
    "])\n",
    "\n",
    "if __name__ == '__main__':\n",
    "    app.run_server(debug=True)"
   ]
  },
  {
   "cell_type": "markdown",
   "id": "bba7a280-88d4-44e8-b0ab-294fbf1b6032",
   "metadata": {},
   "source": [
    "You can change between three different options to display the application\n",
    "\n",
    "i) Independen App\n",
    "\n",
    "_**app.run_server(mode='jupyterlab', port = 8090, dev_tools_ui=True, #debug=True,\n",
    "              dev_tools_hot_reload =True, threaded=True)**_\n",
    "\n",
    "ii) In a cell \n",
    "\n",
    " _**app.run_server(mode='inline', port = 8090, dev_tools_ui=True, #debug=True,\n",
    "              dev_tools_hot_reload =True, threaded=True)**_\n",
    "              \n",
    "iii) in your browser\n",
    "    \n",
    "_**app.run_server(mode='external', port = 8090, dev_tools_ui=True, #debug=True,\n",
    "              dev_tools_hot_reload =True, threaded=True)**_"
   ]
  },
  {
   "cell_type": "markdown",
   "id": "8a71514f-d9cc-41d1-8429-8d7ca208dbe4",
   "metadata": {},
   "source": [
    "## References"
   ]
  },
  {
   "cell_type": "markdown",
   "id": "a3b29814-3a17-42b8-9de2-092d9a129787",
   "metadata": {},
   "source": [
    "The main reference used to create this notebook comes from the [dash documentation](https://dash.plotly.com/layout)"
   ]
  },
  {
   "cell_type": "code",
   "execution_count": null,
   "id": "0245b3e3-1d80-4799-9d9a-e27dab66473e",
   "metadata": {},
   "outputs": [],
   "source": []
  }
 ],
 "metadata": {
  "kernelspec": {
   "display_name": "Python 3 (ipykernel)",
   "language": "python",
   "name": "python3"
  },
  "language_info": {
   "codemirror_mode": {
    "name": "ipython",
    "version": 3
   },
   "file_extension": ".py",
   "mimetype": "text/x-python",
   "name": "python",
   "nbconvert_exporter": "python",
   "pygments_lexer": "ipython3",
   "version": "3.8.13"
  }
 },
 "nbformat": 4,
 "nbformat_minor": 5
}
