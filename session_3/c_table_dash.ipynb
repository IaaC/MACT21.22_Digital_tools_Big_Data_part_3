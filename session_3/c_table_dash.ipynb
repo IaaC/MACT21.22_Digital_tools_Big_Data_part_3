{
 "cells": [
  {
   "cell_type": "markdown",
   "id": "31986ed2",
   "metadata": {},
   "source": [
    "# Digital Tools and Big Data "
   ]
  },
  {
   "cell_type": "markdown",
   "id": "96b8b93c",
   "metadata": {},
   "source": [
    "We are now integrating external data sources to our dashboard"
   ]
  },
  {
   "cell_type": "markdown",
   "id": "2b94c03f",
   "metadata": {},
   "source": [
    "## Jupiter Dash Application"
   ]
  },
  {
   "cell_type": "markdown",
   "id": "eeb3aa8e",
   "metadata": {},
   "source": [
    "This next cell reads an external file and shows it as a table"
   ]
  },
  {
   "cell_type": "code",
   "execution_count": 2,
   "id": "d99cda2a",
   "metadata": {},
   "outputs": [
    {
     "ename": "ModuleNotFoundError",
     "evalue": "No module named 'dash'",
     "output_type": "error",
     "traceback": [
      "\u001b[0;31m---------------------------------------------------------------------------\u001b[0m",
      "\u001b[0;31mModuleNotFoundError\u001b[0m                       Traceback (most recent call last)",
      "\u001b[0;32m/var/folders/v8/s90vwbms2w37l9949xq59mfr0000gn/T/ipykernel_3105/2260290529.py\u001b[0m in \u001b[0;36m<module>\u001b[0;34m\u001b[0m\n\u001b[1;32m      2\u001b[0m \u001b[0;31m# visit http://127.0.0.1:8050/ in your web browser.\u001b[0m\u001b[0;34m\u001b[0m\u001b[0;34m\u001b[0m\u001b[0;34m\u001b[0m\u001b[0m\n\u001b[1;32m      3\u001b[0m \u001b[0;34m\u001b[0m\u001b[0m\n\u001b[0;32m----> 4\u001b[0;31m \u001b[0;32mfrom\u001b[0m \u001b[0mdash\u001b[0m \u001b[0;32mimport\u001b[0m \u001b[0mDash\u001b[0m\u001b[0;34m,\u001b[0m \u001b[0mhtml\u001b[0m\u001b[0;34m\u001b[0m\u001b[0;34m\u001b[0m\u001b[0m\n\u001b[0m\u001b[1;32m      5\u001b[0m \u001b[0;32mimport\u001b[0m \u001b[0mpandas\u001b[0m \u001b[0;32mas\u001b[0m \u001b[0mpd\u001b[0m\u001b[0;34m\u001b[0m\u001b[0;34m\u001b[0m\u001b[0m\n\u001b[1;32m      6\u001b[0m \u001b[0;34m\u001b[0m\u001b[0m\n",
      "\u001b[0;31mModuleNotFoundError\u001b[0m: No module named 'dash'"
     ]
    }
   ],
   "source": [
    "# Run this app with `python app.py` and\n",
    "# visit http://127.0.0.1:8050/ in your web browser.\n",
    "\n",
    "from dash import Dash, html\n",
    "import pandas as pd\n",
    "\n",
    "df = pd.read_csv('https://gist.githubusercontent.com/chriddyp/c78bf172206ce24f77d6363a2d754b59/raw/c353e8ef842413cae56ae3920b8fd78468aa4cb2/usa-agricultural-exports-2011.csv')\n",
    "\n",
    "\n",
    "def generate_table(dataframe, max_rows=10):\n",
    "    return html.Table([\n",
    "        html.Thead(\n",
    "            html.Tr([html.Th(col) for col in dataframe.columns])\n",
    "        ),\n",
    "        html.Tbody([\n",
    "            html.Tr([\n",
    "                html.Td(dataframe.iloc[i][col]) for col in dataframe.columns\n",
    "            ]) for i in range(min(len(dataframe), max_rows))\n",
    "        ])\n",
    "    ])\n",
    "\n",
    "\n",
    "app = Dash(__name__)\n",
    "\n",
    "app.layout = html.Div([\n",
    "    html.H4(children='US Agriculture Exports (2011)'),\n",
    "    generate_table(df)\n",
    "])\n",
    "\n",
    "if __name__ == '__main__':\n",
    "    app.run_server(debug=True)"
   ]
  },
  {
   "cell_type": "markdown",
   "id": "bba7a280-88d4-44e8-b0ab-294fbf1b6032",
   "metadata": {},
   "source": [
    "You can change between three different options to display the application\n",
    "\n",
    "i) Independen App\n",
    "\n",
    "_**app.run_server(mode='jupyterlab', port = 8090, dev_tools_ui=True, #debug=True,\n",
    "              dev_tools_hot_reload =True, threaded=True)**_\n",
    "\n",
    "ii) In a cell \n",
    "\n",
    " _**app.run_server(mode='inline', port = 8090, dev_tools_ui=True, #debug=True,\n",
    "              dev_tools_hot_reload =True, threaded=True)**_\n",
    "              \n",
    "iii) in your browser\n",
    "    \n",
    "_**app.run_server(mode='external', port = 8090, dev_tools_ui=True, #debug=True,\n",
    "              dev_tools_hot_reload =True, threaded=True)**_"
   ]
  },
  {
   "cell_type": "markdown",
   "id": "8a71514f-d9cc-41d1-8429-8d7ca208dbe4",
   "metadata": {},
   "source": [
    "## References"
   ]
  },
  {
   "cell_type": "markdown",
   "id": "a3b29814-3a17-42b8-9de2-092d9a129787",
   "metadata": {},
   "source": [
    "The main reference used to create this notebook comes from the [dash documentation](https://dash.plotly.com/layout)"
   ]
  },
  {
   "cell_type": "code",
   "execution_count": null,
   "id": "0245b3e3-1d80-4799-9d9a-e27dab66473e",
   "metadata": {},
   "outputs": [],
   "source": []
  }
 ],
 "metadata": {
  "kernelspec": {
   "display_name": "Python 3 (ipykernel)",
   "language": "python",
   "name": "python3"
  },
  "language_info": {
   "codemirror_mode": {
    "name": "ipython",
    "version": 3
   },
   "file_extension": ".py",
   "mimetype": "text/x-python",
   "name": "python",
   "nbconvert_exporter": "python",
   "pygments_lexer": "ipython3",
   "version": "3.8.5"
  }
 },
 "nbformat": 4,
 "nbformat_minor": 5
}
