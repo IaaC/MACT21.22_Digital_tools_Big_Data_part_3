{
  "nbformat": 4,
  "nbformat_minor": 0,
  "metadata": {
    "colab": {
      "name": "Hello World MaCT.ipynb",
      "provenance": [],
      "toc_visible": true,
      "include_colab_link": true
    },
    "kernelspec": {
      "name": "python3",
      "display_name": "Python 3"
    }
  },
  "cells": [
    {
      "cell_type": "markdown",
      "metadata": {
        "id": "view-in-github",
        "colab_type": "text"
      },
      "source": [
        "<a href=\"https://colab.research.google.com/github/IaaC/MACT21.22_Digital_tools_Big_Data_part_3/blob/main/session_1/Hello_World_MaCT.ipynb\" target=\"_parent\"><img src=\"https://colab.research.google.com/assets/colab-badge.svg\" alt=\"Open In Colab\"/></a>"
      ]
    },
    {
      "cell_type": "markdown",
      "metadata": {
        "id": "uJ8_h3tmIwHb"
      },
      "source": [
        "![IAAC](https://pbs.twimg.com/profile_images/1105059874826792961/r3HHyWWm_400x400.png)\n",
        "# Digital Tools and Big Data\n",
        "## [Master in City & Technology - MaCT](https://iaac.net/educational-programmes/masters-programmes/master-in-city-technology/) \n",
        "This is the firtst collab notebook set to test the colab platform\n",
        "\n",
        "Created by: Diego Pajarito"
      ]
    },
    {
      "cell_type": "code",
      "metadata": {
        "id": "L55CHoMmIuIx",
        "colab": {
          "base_uri": "https://localhost:8080/"
        },
        "outputId": "e410a9e6-71be-4283-bc23-9897f77eec1e"
      },
      "source": [
        "print(\"Hello MaCT students\")"
      ],
      "execution_count": null,
      "outputs": [
        {
          "output_type": "stream",
          "name": "stdout",
          "text": [
            "Hello MaCT students\n"
          ]
        }
      ]
    },
    {
      "cell_type": "markdown",
      "metadata": {
        "id": "6TmAee1EIvmA"
      },
      "source": [
        "This first example shows how easy is to execute python commands"
      ]
    },
    {
      "cell_type": "code",
      "metadata": {
        "id": "MNUw3fE4Jswq",
        "colab": {
          "base_uri": "https://localhost:8080/"
        },
        "outputId": "824675c7-9f3d-4ee0-accf-0d9f5a12ef4f"
      },
      "source": [
        "import pandas as pd\n",
        "data = {'names':  ['Student 1', 'Student 2', 'Student 3', 'Student 4'],\n",
        "        'country': ['Country 1', 'Country 2', 'Country 3', 'Country 4'],\n",
        "        'grades': [5, 5, 5, 5]\n",
        "        }\n",
        "\n",
        "df = pd.DataFrame (data, columns = ['names','country', 'grades'])\n",
        "\n",
        "print(df)"
      ],
      "execution_count": null,
      "outputs": [
        {
          "output_type": "stream",
          "text": [
            "       names    country  grades\n",
            "0  Student 1  Country 1       5\n",
            "1  Student 2  Country 2       5\n",
            "2  Student 3  Country 3       5\n",
            "3  Student 4  Country 4       5\n"
          ],
          "name": "stdout"
        }
      ]
    },
    {
      "cell_type": "markdown",
      "metadata": {
        "id": "svnGMwXGKfdt"
      },
      "source": [
        "This second example shows how to use libraries (i.e., pandas) and store data."
      ]
    },
    {
      "cell_type": "code",
      "metadata": {
        "colab": {
          "base_uri": "https://localhost:8080/"
        },
        "id": "B1o-DJi-E5CD",
        "outputId": "1ac1608e-0000-42b8-8a50-0a31badb730a"
      },
      "source": [
        "df_names = df[['names']]\n",
        "print(df_names.head())"
      ],
      "execution_count": null,
      "outputs": [
        {
          "output_type": "stream",
          "text": [
            "       names\n",
            "0  Student 1\n",
            "1  Student 2\n",
            "2  Student 3\n",
            "3  Student 4\n"
          ],
          "name": "stdout"
        }
      ]
    },
    {
      "cell_type": "markdown",
      "metadata": {
        "id": "lcF2y2LlFTd1"
      },
      "source": [
        "This third example shows how pandas features can be called through the code"
      ]
    }
  ]
}