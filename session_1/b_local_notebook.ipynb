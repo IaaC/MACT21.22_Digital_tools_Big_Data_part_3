{
 "cells": [
  {
   "cell_type": "markdown",
   "id": "31986ed2",
   "metadata": {},
   "source": [
    "# Digital Tools and Big Data "
   ]
  },
  {
   "cell_type": "markdown",
   "id": "96b8b93c",
   "metadata": {},
   "source": [
    "This is an example of how to improve readability of coding components. \n",
    "\n",
    "Here we replicate or very first script \n",
    "\n",
    "Add more text"
   ]
  },
  {
   "cell_type": "markdown",
   "id": "2b94c03f",
   "metadata": {},
   "source": [
    "## Library import"
   ]
  },
  {
   "cell_type": "markdown",
   "id": "eeb3aa8e",
   "metadata": {},
   "source": [
    "This section shows how to import all the libraries needed to plot a geospatial data set using python"
   ]
  },
  {
   "cell_type": "code",
   "execution_count": 9,
   "id": "d99cda2a",
   "metadata": {},
   "outputs": [],
   "source": [
    "import pandas as pd\n",
    "import geopandas\n",
    "import matplotlib.pyplot as plt\n",
    "from shapely.geometry import Point"
   ]
  },
  {
   "cell_type": "markdown",
   "id": "6ca334b1",
   "metadata": {},
   "source": [
    "## Reading Data"
   ]
  },
  {
   "cell_type": "markdown",
   "id": "255e0c20",
   "metadata": {},
   "source": [
    "This section shows how to read a dataset using a URL. In this case we get data from [open data barcelona](https://opendata-ajuntament.barcelona.cat/data/dataset/82dc847a-661d-4701-a582-b0c1aba89b2a/resource/feafec8a-b389-42b5-a85d-cf16f3976440)"
   ]
  },
  {
   "cell_type": "code",
   "execution_count": 2,
   "id": "ecec284a",
   "metadata": {},
   "outputs": [],
   "source": [
    "url = 'https://opendata-ajuntament.barcelona.cat/data/dataset/82dc847a-661d-4701-a582-b0c1aba89b2a/resource/feafec8a-b389-42b5-a85d-cf16f3976440/download'\n",
    "bcn_stations = pd.read_csv(url)\n"
   ]
  },
  {
   "cell_type": "markdown",
   "id": "d604b83c",
   "metadata": {},
   "source": [
    "## Setting up geospatial features"
   ]
  },
  {
   "cell_type": "markdown",
   "id": "45988b59",
   "metadata": {},
   "source": [
    "This section shows how to prepare the geospatial data set using geopandas"
   ]
  },
  {
   "cell_type": "code",
   "execution_count": 3,
   "id": "0029319c",
   "metadata": {},
   "outputs": [
    {
     "name": "stderr",
     "output_type": "stream",
     "text": [
      "/Users/diego/opt/anaconda3/envs/mact_39/lib/python3.9/site-packages/pyproj/crs/crs.py:131: FutureWarning: '+init=<authority>:<code>' syntax is deprecated. '<authority>:<code>' is the preferred initialization method. When making the change, be mindful of axis order changes: https://pyproj4.github.io/pyproj/stable/gotchas.html#axis-order-changes-in-proj-6\n",
      "  in_crs_string = _prepare_from_proj_string(in_crs_string)\n"
     ]
    }
   ],
   "source": [
    "crs = {'init': 'epsg:4326'}\n",
    "geometry = [Point(xy) for xy in zip(bcn_stations[\"LONGITUD\"], bcn_stations[\"LATITUD\"])]\n",
    "bcn_stations_geo = geopandas.GeoDataFrame(bcn_stations, crs=crs, geometry=geometry)"
   ]
  },
  {
   "cell_type": "markdown",
   "id": "05de8511",
   "metadata": {},
   "source": [
    "## Plotting geospatial data"
   ]
  },
  {
   "cell_type": "markdown",
   "id": "3284062b",
   "metadata": {},
   "source": [
    "This section shows how we can plot geospatial data using geopandas"
   ]
  },
  {
   "cell_type": "code",
   "execution_count": 16,
   "id": "55fbed78",
   "metadata": {},
   "outputs": [
    {
     "data": {
      "image/png": "[encoded data removed]",
      "text/plain": [
       "<Figure size 432x288 with 1 Axes>"
      ]
     },
     "metadata": {
      "needs_background": "light"
     },
     "output_type": "display_data"
    }
   ],
   "source": [
    "f, ax = plt.subplots()\n",
    "bcn_stations_geo.plot(ax=ax, marker='o', color='green', markersize=20)\n",
    "plt.show()"
   ]
  },
  {
   "cell_type": "markdown",
   "id": "b45e83ff",
   "metadata": {},
   "source": [
    "## Bonus: Additional features"
   ]
  },
  {
   "cell_type": "markdown",
   "id": "45473e8f",
   "metadata": {},
   "source": [
    "There are additional features that emerge from using a web environment. An example is the web mapping integration summarised in this [blog post](https://carpentries-incubator.github.io/jupyter_maps/aio.html)"
   ]
  },
  {
   "cell_type": "code",
   "execution_count": 17,
   "id": "68bb35c0",
   "metadata": {},
   "outputs": [
    {
     "data": {
      "application/vnd.jupyter.widget-view+json": {
       "model_id": "2cbbb12161b2447da73080b6c268673a",
       "version_major": 2,
       "version_minor": 0
      },
      "text/plain": [
       "Map(center=[0.0, 0.0], controls=(ZoomControl(options=['position', 'zoom_in_text', 'zoom_in_title', 'zoom_out_t…"
      ]
     },
     "metadata": {},
     "output_type": "display_data"
    }
   ],
   "source": [
    "from ipyleaflet import Map\n",
    "Map()"
   ]
  },
  {
   "cell_type": "markdown",
   "id": "c61fa03f",
   "metadata": {},
   "source": [
    "There are additional configuration alternatives to work with the web mapping tools. We should be aware of the need for extra tools like extensions (in this case JupiterLab)"
   ]
  },
  {
   "cell_type": "code",
   "execution_count": 8,
   "id": "84e65320",
   "metadata": {},
   "outputs": [
    {
     "data": {
      "application/vnd.jupyter.widget-view+json": {
       "model_id": "c8f9a7448a0645ecb3657cf883af2180",
       "version_major": 2,
       "version_minor": 0
      },
      "text/plain": [
       "Map(center=[60, -2.2], controls=(ZoomControl(options=['position', 'zoom_in_text', 'zoom_in_title', 'zoom_out_t…"
      ]
     },
     "metadata": {},
     "output_type": "display_data"
    }
   ],
   "source": [
    "from ipyleaflet import Map, basemaps\n",
    "\n",
    "# Map centred on (60 degrees latitude et -2.2 degrees longitude)\n",
    "# Latitude, longitude\n",
    "Map(center = (60, -2.2), zoom = 2, min_zoom = 1, max_zoom = 20, \n",
    "    basemap=basemaps.Stamen.Terrain)"
   ]
  }
 ],
 "metadata": {
  "kernelspec": {
   "display_name": "Python 3 (ipykernel)",
   "language": "python",
   "name": "python3"
  },
  "language_info": {
   "codemirror_mode": {
    "name": "ipython",
    "version": 3
   },
   "file_extension": ".py",
   "mimetype": "text/x-python",
   "name": "python",
   "nbconvert_exporter": "python",
   "pygments_lexer": "ipython3",
   "version": "3.9.7"
  }
 },
 "nbformat": 4,
 "nbformat_minor": 5
}
